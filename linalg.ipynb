{
 "cells": [
  {
   "cell_type": "code",
   "execution_count": 10,
   "id": "drawn-mozambique",
   "metadata": {},
   "outputs": [],
   "source": [
    "from scipy import *\n",
    "import scipy.linalg as la\n",
    "import numpy as np"
   ]
  },
  {
   "cell_type": "code",
   "execution_count": 11,
   "id": "alert-period",
   "metadata": {},
   "outputs": [
    {
     "data": {
      "text/plain": [
       "array([[0, 1, 2],\n",
       "       [3, 4, 5],\n",
       "       [6, 7, 8]])"
      ]
     },
     "execution_count": 11,
     "metadata": {},
     "output_type": "execute_result"
    }
   ],
   "source": [
    "A = np.arange(9).reshape(3,3)\n",
    "A"
   ]
  },
  {
   "cell_type": "code",
   "execution_count": 12,
   "id": "respective-chess",
   "metadata": {},
   "outputs": [
    {
     "data": {
      "text/plain": [
       "array([1, 2, 3])"
      ]
     },
     "execution_count": 12,
     "metadata": {},
     "output_type": "execute_result"
    }
   ],
   "source": [
    "b = np.array([1,2,3])\n",
    "b"
   ]
  },
  {
   "cell_type": "code",
   "execution_count": 13,
   "id": "corresponding-table",
   "metadata": {},
   "outputs": [
    {
     "data": {
      "text/plain": [
       "(array([-0.22222222,  0.11111111,  0.44444444]),\n",
       " array([], dtype=float64),\n",
       " 2,\n",
       " array([1.42267074e+01, 1.26522599e+00, 4.97902781e-16]))"
      ]
     },
     "execution_count": 13,
     "metadata": {},
     "output_type": "execute_result"
    }
   ],
   "source": [
    "c = la.lstsq(A,b)\n",
    "c"
   ]
  },
  {
   "cell_type": "code",
   "execution_count": 14,
   "id": "specialized-plasma",
   "metadata": {},
   "outputs": [
    {
     "data": {
      "text/plain": [
       "array([1., 2., 3.])"
      ]
     },
     "execution_count": 14,
     "metadata": {},
     "output_type": "execute_result"
    }
   ],
   "source": [
    "d = np.matmul(A, c[0])\n",
    "d"
   ]
  },
  {
   "cell_type": "code",
   "execution_count": 25,
   "id": "round-savannah",
   "metadata": {},
   "outputs": [
    {
     "name": "stdout",
     "output_type": "stream",
     "text": [
      "[[1 8 1]\n",
      " [6 8 1]\n",
      " [0 7 0]]\n"
     ]
    },
    {
     "data": {
      "text/plain": [
       "array([[2.83333333, 8.16666667, 1.16666667],\n",
       "       [2.33333333, 7.66666667, 0.66666667],\n",
       "       [1.83333333, 7.16666667, 0.16666667]])"
      ]
     },
     "execution_count": 25,
     "metadata": {},
     "output_type": "execute_result"
    }
   ],
   "source": [
    "B = np.random.randint(10, size=[3,3])\n",
    "print(B)\n",
    "e1 = la.lstsq(A,B)\n",
    "e2 = np.matmul(A,e1[0])\n",
    "e2"
   ]
  },
  {
   "cell_type": "code",
   "execution_count": 26,
   "id": "satisfied-iceland",
   "metadata": {},
   "outputs": [
    {
     "data": {
      "text/plain": [
       "(array([ 1.33484692e+01+0.j, -1.34846923e+00+0.j, -1.15433316e-15+0.j]),\n",
       " array([[ 0.16476382,  0.79969966,  0.40824829],\n",
       "        [ 0.50577448,  0.10420579, -0.81649658],\n",
       "        [ 0.84678513, -0.59128809,  0.40824829]]))"
      ]
     },
     "execution_count": 26,
     "metadata": {},
     "output_type": "execute_result"
    }
   ],
   "source": [
    "f = la.eig(A)\n",
    "f"
   ]
  },
  {
   "cell_type": "code",
   "execution_count": 28,
   "id": "instant-danish",
   "metadata": {},
   "outputs": [
    {
     "data": {
      "text/plain": [
       "(array([[-2.00000000e-01,  2.00000000e-01,  6.34413157e-18],\n",
       "        [-0.00000000e+00,  0.00000000e+00,  1.42857143e-01],\n",
       "        [ 1.20000000e+00, -2.00000000e-01, -1.14285714e+00]]),\n",
       " 35.0)"
      ]
     },
     "execution_count": 28,
     "metadata": {},
     "output_type": "execute_result"
    }
   ],
   "source": [
    "g1 = la.inv(B)\n",
    "g2 = la.det(B)\n",
    "g1, g2"
   ]
  },
  {
   "cell_type": "code",
   "execution_count": 29,
   "id": "distant-grill",
   "metadata": {},
   "outputs": [
    {
     "data": {
      "text/plain": [
       "14.2828568570857"
      ]
     },
     "execution_count": 29,
     "metadata": {},
     "output_type": "execute_result"
    }
   ],
   "source": [
    "h = la.norm(A)\n",
    "h"
   ]
  }
 ],
 "metadata": {
  "kernelspec": {
   "display_name": "Python 3",
   "language": "python",
   "name": "python3"
  },
  "language_info": {
   "codemirror_mode": {
    "name": "ipython",
    "version": 3
   },
   "file_extension": ".py",
   "mimetype": "text/x-python",
   "name": "python",
   "nbconvert_exporter": "python",
   "pygments_lexer": "ipython3",
   "version": "3.6.10"
  }
 },
 "nbformat": 4,
 "nbformat_minor": 5
}
